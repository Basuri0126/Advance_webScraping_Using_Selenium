{
 "cells": [
  {
   "cell_type": "code",
   "execution_count": 14,
   "id": "99333168",
   "metadata": {},
   "outputs": [],
   "source": [
    "import pandas as pd\n",
    "import numpy as np\n",
    "from bs4 import BeautifulSoup"
   ]
  },
  {
   "cell_type": "code",
   "execution_count": 37,
   "id": "59e3aff6",
   "metadata": {},
   "outputs": [],
   "source": [
    "with open('smartprix_cmapusx.html', 'r', encoding='utf-8') as f:\n",
    "    html = f.read()"
   ]
  },
  {
   "cell_type": "code",
   "execution_count": 38,
   "id": "6c02a44f",
   "metadata": {},
   "outputs": [],
   "source": [
    "soup = BeautifulSoup(html, 'lxml')"
   ]
  },
  {
   "cell_type": "code",
   "execution_count": 39,
   "id": "2e11aa8f",
   "metadata": {},
   "outputs": [],
   "source": [
    "containers = soup.find_all('div', class_='sm-product has-tag has-features has-actions')"
   ]
  },
  {
   "cell_type": "code",
   "execution_count": 40,
   "id": "f1f03b19",
   "metadata": {},
   "outputs": [
    {
     "data": {
      "text/plain": [
       "1020"
      ]
     },
     "execution_count": 40,
     "metadata": {},
     "output_type": "execute_result"
    }
   ],
   "source": [
    "len(containers)"
   ]
  },
  {
   "cell_type": "code",
   "execution_count": 146,
   "id": "0a55529c",
   "metadata": {},
   "outputs": [],
   "source": [
    "phone_name = []\n",
    "price = []\n",
    "spec_rate = []\n",
    "sim = []\n",
    "processor = []\n",
    "battery = []\n",
    "display = []\n",
    "front_camera = []\n",
    "rear_camera = []\n",
    "card = []\n",
    "os = []\n",
    "ram = []\n",
    "storage = []\n",
    "charger_speed = []\n",
    "screen_size = []\n",
    "screen_dimension_in_px = []\n",
    "\n",
    "for i in containers:\n",
    "    try:\n",
    "        phone_name.append(i.find('h2').text)\n",
    "    except:\n",
    "        phone_name.append(np.nan)\n",
    "    try:\n",
    "        price.append(i.find('b').text)\n",
    "    except:\n",
    "        price.append(np.nan)\n",
    "    try:\n",
    "        spec_rate.append(i.find('span', class_='price').text)\n",
    "    except:\n",
    "        spec_rate.append(np.nan)\n",
    "    \n",
    "    x = i.find('ul', {'class': 'sm-feat specs'}).find_all('li')\n",
    "    try:\n",
    "        sim.append(x[0].text)\n",
    "    except:\n",
    "        sim.append(np.nan)\n",
    "    try:\n",
    "        processor.append(x[1].text)\n",
    "    except:\n",
    "        processor.append(np.nan)\n",
    "    try:\n",
    "        ram.append(x[2].text.split(',')[0])\n",
    "    except:\n",
    "        ram.append(np.nan)\n",
    "    try:\n",
    "        storage.append(x[2].text.split(',')[1])\n",
    "    except:\n",
    "        storage.append(np.nan)\n",
    "    try:\n",
    "        battery.append(x[3].text.split(' ')[0])\n",
    "    except:\n",
    "        battery.append(np.nan)\n",
    "    try:\n",
    "        charger_speed.append(x[3].text.split(' ')[3])\n",
    "    except:\n",
    "        charger_speed.append(np.nan)\n",
    "    try:\n",
    "        screen_size.append(x[4].text.split(',')[0])\n",
    "    except:\n",
    "        screen_size(np.nan)\n",
    "    try:\n",
    "        screen_dimension_in_px.append(x[4].text.split(',')[1])\n",
    "    except:\n",
    "        screen_dimension_in_px.append(np.nan)\n",
    "    try:\n",
    "        display.append(x[4].text.split(',')[2])\n",
    "    except:\n",
    "        display.append(np.nan)\n",
    "        \n",
    "    try:\n",
    "        rear_camera.append(x[5].text.split('&')[0])\n",
    "    except:\n",
    "        rear_camera.append(np.nan)\n",
    "    try:\n",
    "        front_camera.append(x[5].text.split('&')[1])\n",
    "    except:\n",
    "        front_camera.append(np.nan)\n",
    "   \n",
    "    try:\n",
    "        card.append(x[6].text)\n",
    "    except:\n",
    "        card.append(np.nan)\n",
    "    try:\n",
    "        os.append(x[7].text)\n",
    "    except:\n",
    "        os.append(np.nan)\n",
    "    "
   ]
  },
  {
   "cell_type": "code",
   "execution_count": 148,
   "id": "d03559fd",
   "metadata": {},
   "outputs": [
    {
     "data": {
      "text/plain": [
       "1020"
      ]
     },
     "execution_count": 148,
     "metadata": {},
     "output_type": "execute_result"
    }
   ],
   "source": [
    "len(card)"
   ]
  },
  {
   "cell_type": "code",
   "execution_count": null,
   "id": "cf51d376",
   "metadata": {},
   "outputs": [],
   "source": []
  },
  {
   "cell_type": "code",
   "execution_count": 149,
   "id": "76b69b7b",
   "metadata": {},
   "outputs": [],
   "source": [
    "df = pd.DataFrame({\n",
    "    'phone':phone_name,\n",
    "    'price':price,\n",
    "    'spec_score':spec_rate,\n",
    "    'sim':sim,\n",
    "    'Processor':processor,\n",
    "    'battery':battery,\n",
    "    'display':display,\n",
    "    'front_camera':front_camera,\n",
    "    'rear_camera':rear_camera,\n",
    "    'card':card,\n",
    "    'os':os,\n",
    "    'ram':ram,\n",
    "    'storage':storage,\n",
    "    'charger_speed':charger_speed,\n",
    "    'screen_size':screen_size,\n",
    "    'screen_dimension_in_px':screen_dimension_in_px\n",
    "})"
   ]
  },
  {
   "cell_type": "code",
   "execution_count": 151,
   "id": "23f89ecd",
   "metadata": {},
   "outputs": [
    {
     "data": {
      "text/plain": [
       "phone                       0\n",
       "price                       0\n",
       "spec_score                  0\n",
       "sim                         0\n",
       "Processor                   0\n",
       "battery                     0\n",
       "display                   608\n",
       "front_camera              161\n",
       "rear_camera                 2\n",
       "card                       27\n",
       "os                         69\n",
       "ram                         0\n",
       "storage                    65\n",
       "charger_speed             310\n",
       "screen_size                 0\n",
       "screen_dimension_in_px     74\n",
       "dtype: int64"
      ]
     },
     "execution_count": 151,
     "metadata": {},
     "output_type": "execute_result"
    }
   ],
   "source": [
    "df.isna().sum()"
   ]
  },
  {
   "cell_type": "code",
   "execution_count": 121,
   "id": "ce462844",
   "metadata": {},
   "outputs": [],
   "source": [
    "t = soup.find_all('span', {'class': 'sm-rating'})"
   ]
  },
  {
   "cell_type": "code",
   "execution_count": 126,
   "id": "148c4aa1",
   "metadata": {},
   "outputs": [
    {
     "data": {
      "text/plain": [
       "<span class=\"sm-rating\" style=\"--rating:4;\"><!-- --><i></i></span>"
      ]
     },
     "execution_count": 126,
     "metadata": {},
     "output_type": "execute_result"
    }
   ],
   "source": [
    "t[0]"
   ]
  },
  {
   "cell_type": "code",
   "execution_count": 152,
   "id": "4f51b19c",
   "metadata": {},
   "outputs": [],
   "source": [
    "df.to_csv('SmartPrix_phone.csv')"
   ]
  },
  {
   "cell_type": "code",
   "execution_count": null,
   "id": "93ff932d",
   "metadata": {},
   "outputs": [],
   "source": []
  }
 ],
 "metadata": {
  "kernelspec": {
   "display_name": "Python 3 (ipykernel)",
   "language": "python",
   "name": "python3"
  },
  "language_info": {
   "codemirror_mode": {
    "name": "ipython",
    "version": 3
   },
   "file_extension": ".py",
   "mimetype": "text/x-python",
   "name": "python",
   "nbconvert_exporter": "python",
   "pygments_lexer": "ipython3",
   "version": "3.10.9"
  }
 },
 "nbformat": 4,
 "nbformat_minor": 5
}
